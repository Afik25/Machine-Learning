{
 "cells": [
  {
   "cell_type": "code",
   "execution_count": 2,
   "metadata": {},
   "outputs": [],
   "source": [
    "import numpy as np\n",
    "import pandas as pd\n",
    "import glob as g\n",
    "from datetime import datetime"
   ]
  },
  {
   "cell_type": "code",
   "execution_count": 3,
   "metadata": {},
   "outputs": [
    {
     "data": {
      "text/plain": [
       "array([[1., 1.],\n",
       "       [1., 1.]])"
      ]
     },
     "execution_count": 3,
     "metadata": {},
     "output_type": "execute_result"
    }
   ],
   "source": [
    "x = np.ones((2,2))\n",
    "x"
   ]
  },
  {
   "cell_type": "code",
   "execution_count": null,
   "metadata": {},
   "outputs": [],
   "source": []
  },
  {
   "cell_type": "markdown",
   "metadata": {},
   "source": [
    "# 1. Pipeline"
   ]
  },
  {
   "cell_type": "code",
   "execution_count": 1,
   "metadata": {},
   "outputs": [],
   "source": [
    "import pandas as pd\n",
    "from abc import ABC, abstractmethod"
   ]
  },
  {
   "cell_type": "code",
   "execution_count": 2,
   "metadata": {},
   "outputs": [],
   "source": [
    "class DataProcessingStrategy(ABC):\n",
    "    @abstractmethod\n",
    "    def apply(self, data: pd.DataFrame) -> pd.DataFrame:\n",
    "        pass"
   ]
  },
  {
   "cell_type": "code",
   "execution_count": 3,
   "metadata": {},
   "outputs": [],
   "source": [
    "class DropMissingDataStrategy(DataProcessingStrategy):\n",
    "    def apply(self, data: pd.DataFrame) -> pd.DataFrame:\n",
    "        return data.dropna()"
   ]
  },
  {
   "cell_type": "code",
   "execution_count": 4,
   "metadata": {},
   "outputs": [],
   "source": [
    "class StandardizeDataStrategy(DataProcessingStrategy):\n",
    "    def apply(self, data:pd.DataFrame)-> pd.DataFrame:\n",
    "        return (data - data.mean()) / data.std()"
   ]
  },
  {
   "cell_type": "code",
   "execution_count": 5,
   "metadata": {},
   "outputs": [],
   "source": [
    "class DataPipeline:\n",
    "    def __init__(self) -> None:\n",
    "        self.strategies = []\n",
    "\n",
    "    def add_strategy(self, strategy:DataProcessingStrategy):\n",
    "        self.strategies.append(strategy)\n",
    "\n",
    "    def process(self, data: pd.DataFrame) -> pd.DataFrame:\n",
    "        for strategy in self.strategies:\n",
    "            data = strategy.apply(data)\n",
    "\n",
    "        return data"
   ]
  },
  {
   "cell_type": "code",
   "execution_count": 6,
   "metadata": {},
   "outputs": [],
   "source": [
    "pipeline = DataPipeline()\n",
    "pipeline.add_strategy(DropMissingDataStrategy())\n",
    "pipeline.add_strategy(StandardizeDataStrategy())"
   ]
  },
  {
   "cell_type": "code",
   "execution_count": 7,
   "metadata": {},
   "outputs": [
    {
     "data": {
      "text/html": [
       "<div>\n",
       "<style scoped>\n",
       "    .dataframe tbody tr th:only-of-type {\n",
       "        vertical-align: middle;\n",
       "    }\n",
       "\n",
       "    .dataframe tbody tr th {\n",
       "        vertical-align: top;\n",
       "    }\n",
       "\n",
       "    .dataframe thead th {\n",
       "        text-align: right;\n",
       "    }\n",
       "</style>\n",
       "<table border=\"1\" class=\"dataframe\">\n",
       "  <thead>\n",
       "    <tr style=\"text-align: right;\">\n",
       "      <th></th>\n",
       "      <th>A</th>\n",
       "      <th>B</th>\n",
       "    </tr>\n",
       "  </thead>\n",
       "  <tbody>\n",
       "    <tr>\n",
       "      <th>0</th>\n",
       "      <td>-1.024695</td>\n",
       "      <td>1.161895</td>\n",
       "    </tr>\n",
       "    <tr>\n",
       "      <th>1</th>\n",
       "      <td>-0.439155</td>\n",
       "      <td>0.387298</td>\n",
       "    </tr>\n",
       "    <tr>\n",
       "      <th>2</th>\n",
       "      <td>0.146385</td>\n",
       "      <td>-1.161895</td>\n",
       "    </tr>\n",
       "    <tr>\n",
       "      <th>4</th>\n",
       "      <td>1.317465</td>\n",
       "      <td>-0.387298</td>\n",
       "    </tr>\n",
       "  </tbody>\n",
       "</table>\n",
       "</div>"
      ],
      "text/plain": [
       "          A         B\n",
       "0 -1.024695  1.161895\n",
       "1 -0.439155  0.387298\n",
       "2  0.146385 -1.161895\n",
       "4  1.317465 -0.387298"
      ]
     },
     "execution_count": 7,
     "metadata": {},
     "output_type": "execute_result"
    }
   ],
   "source": [
    "data = pd.DataFrame({\n",
    "    \"A\":[1, 2, 3, None, 5],\n",
    "    \"B\":[5, 4, 2, 1, 3]\n",
    "})\n",
    "pipeline.process(data)"
   ]
  },
  {
   "cell_type": "code",
   "execution_count": null,
   "metadata": {},
   "outputs": [],
   "source": []
  },
  {
   "cell_type": "markdown",
   "metadata": {},
   "source": [
    "# 2. Data Extraction"
   ]
  },
  {
   "cell_type": "code",
   "execution_count": null,
   "metadata": {},
   "outputs": [],
   "source": [
    "def extractFromCsv(filePath):\n",
    "    df = pd.read_csv(filePath)\n",
    "\n",
    "    return df\n",
    "\n",
    "\n",
    "def extractFromJson(filePath):\n",
    "    df = pd.read_json(filePath)\n",
    "\n",
    "    return df\n",
    "\n",
    "def extractFromExcel(filePath):\n",
    "    df = pd.read_excel(filePath)\n",
    "\n",
    "    return df"
   ]
  },
  {
   "cell_type": "code",
   "execution_count": 4,
   "metadata": {},
   "outputs": [
    {
     "data": {
      "text/plain": [
       "2024"
      ]
     },
     "execution_count": 4,
     "metadata": {},
     "output_type": "execute_result"
    }
   ],
   "source": [
    "datetime.today()\n",
    "datetime.today().year"
   ]
  },
  {
   "cell_type": "code",
   "execution_count": null,
   "metadata": {},
   "outputs": [],
   "source": [
    "def extract():\n",
    "    extracted_data = pd.DataFrame(columns=['col1', 'col2'])\n",
    "\n",
    "    for i in g.glob(\"Raw_Data/*.csv\"):\n",
    "        extracted_data = extracted_data.append(extractFromCsv(i), ignore_index = True)\n",
    "\n",
    "    for i in g.glob(\"Raw_Data/*.csv\"):\n",
    "        extracted_data = extracted_data.append(extractFromCsv(i), ignore_index = True)\n",
    "\n",
    "    for i in g.glob(\"Raw_Data/*.csv\"):\n",
    "        extracted_data = extracted_data.append(extractFromCsv(i), ignore_index = True)\n",
    "\n",
    "    return extracted_data"
   ]
  },
  {
   "cell_type": "markdown",
   "metadata": {},
   "source": [
    "# 3. Data Transformation"
   ]
  },
  {
   "cell_type": "code",
   "execution_count": null,
   "metadata": {},
   "outputs": [],
   "source": [
    "def transform(data):\n",
    "    data['col1'] = round(data['price'], 2)\n",
    "\n",
    "    return data"
   ]
  },
  {
   "cell_type": "markdown",
   "metadata": {},
   "source": [
    "# 4. Data load"
   ]
  },
  {
   "cell_type": "code",
   "execution_count": null,
   "metadata": {},
   "outputs": [],
   "source": [
    "def load(targetFile, data_to_load):\n",
    "    data_to_load.to_csv(targetFile)"
   ]
  },
  {
   "cell_type": "markdown",
   "metadata": {},
   "source": [
    "# 5. ETL Execution"
   ]
  },
  {
   "cell_type": "code",
   "execution_count": null,
   "metadata": {},
   "outputs": [],
   "source": [
    "extracted_data = extract()\n",
    "transformed_data = transform(extracted_data)\n",
    "load_data = load(\"transform_data/new_data.csv\",transformed_data)"
   ]
  },
  {
   "cell_type": "code",
   "execution_count": null,
   "metadata": {},
   "outputs": [],
   "source": []
  },
  {
   "cell_type": "code",
   "execution_count": null,
   "metadata": {},
   "outputs": [],
   "source": []
  },
  {
   "cell_type": "code",
   "execution_count": null,
   "metadata": {},
   "outputs": [],
   "source": []
  },
  {
   "cell_type": "code",
   "execution_count": null,
   "metadata": {},
   "outputs": [],
   "source": []
  },
  {
   "cell_type": "code",
   "execution_count": 11,
   "metadata": {},
   "outputs": [
    {
     "name": "stdout",
     "output_type": "stream",
     "text": [
      "check file main.ipynb\n",
      "check ./\\main.ipynb\n",
      "ALERT: main.ipynb is not a file, so can not be printed!\n",
      "check file .DS_Store\n",
      "check ./\\.DS_Store\n",
      "ALERT: .DS_Store is not a file, so can not be printed!\n",
      "check file DL-Foundations\n",
      "check ./\\DL-Foundations\n",
      "ALERT: DL-Foundations is not a file, so can not be printed!\n",
      "check file file2.json\n",
      "check ./\\file2.json\n",
      "ALERT: file2.json is not a file, so can not be printed!\n",
      "check file file1.csv\n",
      "check ./\\file1.csv\n",
      "ALERT: file1.csv is not a file, so can not be printed!\n",
      "check file Data-Engineering\n",
      "check ./\\Data-Engineering\n",
      "ALERT: Data-Engineering is not a file, so can not be printed!\n",
      "check file ML-Foundations\n",
      "check ./\\ML-Foundations\n",
      "ALERT: ML-Foundations is not a file, so can not be printed!\n",
      "Task finished!\n"
     ]
    }
   ],
   "source": [
    "# Import libraries\n",
    "import os\n",
    "import time\n",
    "\n",
    "# Insert the directory path in here\n",
    "path = './'\n",
    "\n",
    "# Extracting all the contents in the directory corresponding to path\n",
    "l_files = os.listdir(path)\n",
    "\n",
    "# Iterating over all the files\n",
    "for file in l_files:\n",
    "\n",
    "# Instantiating the path of the file\n",
    "\tfile_path = f'{path}\\\\{file}'\n",
    "\tprint(f'check file {file}')\n",
    "\tprint(f'check {file_path}')\n",
    "\n",
    "\t# Checking whether the given file is a directory or not\n",
    "\tif os.path.isfile(file_path):\n",
    "\t\ttry:\n",
    "\t\t\t# Printing the file pertaining to file_path\n",
    "\t\t\tos.startfile(file_path, 'print')\n",
    "\t\t\tprint(f'Printing {file}')\n",
    "\n",
    "\t\t\ttime.sleep(5)\n",
    "\t\texcept:\n",
    "\t\t\t# Catching if any error occurs and alerting the user\n",
    "\t\t\tprint(f'ALERT: {file} could not be printed! Please check\\\n",
    "\t\t\tthe associated softwares, or the file type.')\n",
    "\telse:\n",
    "\t\tprint(f'ALERT: {file} is not a file, so can not be printed!')\n",
    "\n",
    "print('Task finished!')\n"
   ]
  },
  {
   "cell_type": "code",
   "execution_count": null,
   "metadata": {},
   "outputs": [],
   "source": []
  }
 ],
 "metadata": {
  "kernelspec": {
   "display_name": "base",
   "language": "python",
   "name": "python3"
  },
  "language_info": {
   "codemirror_mode": {
    "name": "ipython",
    "version": 3
   },
   "file_extension": ".py",
   "mimetype": "text/x-python",
   "name": "python",
   "nbconvert_exporter": "python",
   "pygments_lexer": "ipython3",
   "version": "3.9.13"
  }
 },
 "nbformat": 4,
 "nbformat_minor": 2
}
